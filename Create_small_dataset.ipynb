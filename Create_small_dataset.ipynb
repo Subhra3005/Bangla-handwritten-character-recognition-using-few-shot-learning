{
 "cells": [
  {
   "cell_type": "code",
   "execution_count": 3,
   "metadata": {},
   "outputs": [],
   "source": [
    "import os\n",
    "import shutil"
   ]
  },
  {
   "cell_type": "code",
   "execution_count": 5,
   "metadata": {},
   "outputs": [],
   "source": [
    "datapath = 'dataset'\n",
    "new_path = 'ekush_small'\n",
    "if os.path.exists(new_path):\n",
    "    shutil.rmtree(new_path)\n",
    "\n",
    "os.mkdir(new_path)"
   ]
  },
  {
   "cell_type": "code",
   "execution_count": 6,
   "metadata": {},
   "outputs": [],
   "source": [
    "n=50\n",
    "classes = os.listdir(datapath)[:50]\n",
    "for cl in classes:\n",
    "    class_path = datapath+'/'+cl+'/'\n",
    "    dest_path = new_path+'/'+cl+'/'\n",
    "    os.mkdir(dest_path)\n",
    "    files = os.listdir(class_path)\n",
    "    for file in files:\n",
    "        shutil.copy(class_path+file, dest_path)"
   ]
  },
  {
   "cell_type": "code",
   "execution_count": null,
   "metadata": {},
   "outputs": [],
   "source": []
  }
 ],
 "metadata": {
  "kernelspec": {
   "display_name": "Python 3",
   "language": "python",
   "name": "python3"
  },
  "language_info": {
   "codemirror_mode": {
    "name": "ipython",
    "version": 3
   },
   "file_extension": ".py",
   "mimetype": "text/x-python",
   "name": "python",
   "nbconvert_exporter": "python",
   "pygments_lexer": "ipython3",
   "version": "3.12.3"
  }
 },
 "nbformat": 4,
 "nbformat_minor": 2
}
